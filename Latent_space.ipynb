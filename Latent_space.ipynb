{
  "nbformat": 4,
  "nbformat_minor": 0,
  "metadata": {
    "colab": {
      "private_outputs": true,
      "provenance": [],
      "machine_shape": "hm",
      "gpuType": "T4",
      "authorship_tag": "ABX9TyNiWpiOAQ1bR+cXMwmKOmzW",
      "include_colab_link": true
    },
    "kernelspec": {
      "name": "python3",
      "display_name": "Python 3"
    },
    "language_info": {
      "name": "python"
    },
    "accelerator": "GPU"
  },
  "cells": [
    {
      "cell_type": "markdown",
      "metadata": {
        "id": "view-in-github",
        "colab_type": "text"
      },
      "source": [
        "<a href=\"https://colab.research.google.com/github/cagBRT/Diffusers/blob/main/Latent_space.ipynb\" target=\"_parent\"><img src=\"https://colab.research.google.com/assets/colab-badge.svg\" alt=\"Open In Colab\"/></a>"
      ]
    },
    {
      "cell_type": "code",
      "execution_count": null,
      "metadata": {
        "id": "5Zny-iBgz2PV"
      },
      "outputs": [],
      "source": [
        "!pip install keras-cv tensorflow --upgrade"
      ]
    },
    {
      "cell_type": "code",
      "source": [
        "!pip install keras-core"
      ],
      "metadata": {
        "id": "Muo7AyMM06XC"
      },
      "execution_count": null,
      "outputs": []
    },
    {
      "cell_type": "code",
      "source": [
        "import keras_core as keras"
      ],
      "metadata": {
        "id": "YWmzOfkL2M0P"
      },
      "execution_count": null,
      "outputs": []
    },
    {
      "cell_type": "code",
      "source": [
        "import keras_cv\n",
        "from tensorflow import keras\n",
        "import matplotlib.pyplot as plt\n",
        "import tensorflow as tf\n",
        "import numpy as np\n",
        "import math\n",
        "from PIL import Image\n",
        "\n",
        "# Enable mixed precision\n",
        "# (only do this if you have a recent NVIDIA GPU)\n",
        "keras.mixed_precision.set_global_policy(\"mixed_float16\")\n",
        "\n",
        "# Instantiate the Stable Diffusion model\n",
        "model = keras_cv.models.StableDiffusion(jit_compile=True)"
      ],
      "metadata": {
        "id": "SDXCTV2Rz6Sl"
      },
      "execution_count": null,
      "outputs": []
    },
    {
      "cell_type": "code",
      "source": [
        "prompt_1 = \"A watercolor painting of a Golden Retriever at the beach\"\n",
        "prompt_2 = \"A still life DSLR photo of a bowl of fruit\"\n",
        "interpolation_steps = 5\n",
        "\n",
        "encoding_1 = tf.squeeze(model.encode_text(prompt_1))\n",
        "encoding_2 = tf.squeeze(model.encode_text(prompt_2))\n",
        "\n",
        "interpolated_encodings = tf.linspace(encoding_1, encoding_2, interpolation_steps)\n",
        "\n",
        "# Show the size of the latent manifold\n",
        "print(f\"Encoding shape: {encoding_1.shape}\")"
      ],
      "metadata": {
        "id": "9HucdLkoz6UX"
      },
      "execution_count": null,
      "outputs": []
    },
    {
      "cell_type": "code",
      "source": [
        "seed = 12345\n",
        "noise = tf.random.normal((512 // 8, 512 // 8, 4), seed=seed)\n",
        "\n",
        "images = model.generate_image(\n",
        "    interpolated_encodings,\n",
        "    batch_size=interpolation_steps,\n",
        "    diffusion_noise=noise,\n",
        ")"
      ],
      "metadata": {
        "id": "JKIYSZSv0CQf"
      },
      "execution_count": null,
      "outputs": []
    },
    {
      "cell_type": "code",
      "source": [
        "def export_as_gif(filename, images, frames_per_second=10, rubber_band=False):\n",
        "    if rubber_band:\n",
        "        images += images[2:-1][::-1]\n",
        "    images[0].save(\n",
        "        filename,\n",
        "        save_all=True,\n",
        "        append_images=images[1:],\n",
        "        duration=1000 // frames_per_second,\n",
        "        loop=0,\n",
        "    )\n",
        "\n",
        "export_as_gif(\n",
        "    \"doggo-and-fruit-5.gif\",\n",
        "    [Image.fromarray(img) for img in images],\n",
        "    frames_per_second=2,\n",
        "    rubber_band=True,\n",
        ")"
      ],
      "metadata": {
        "id": "K6J7-bYF2zxt"
      },
      "execution_count": null,
      "outputs": []
    },
    {
      "cell_type": "code",
      "source": [
        "from IPython.display import Image as IImage\n",
        "IImage(\"doggo-and-fruit-5.gif\")"
      ],
      "metadata": {
        "id": "FaZgtQkx22e3"
      },
      "execution_count": null,
      "outputs": []
    },
    {
      "cell_type": "code",
      "source": [
        "walk_steps = 150\n",
        "batch_size = 3\n",
        "batches = walk_steps // batch_size\n",
        "step_size = 0.005\n",
        "\n",
        "encoding = tf.squeeze(\n",
        "    model.encode_text(\"The Eiffel Tower in the style of starry night\")\n",
        ")\n",
        "# Note that (77, 768) is the shape of the text encoding.\n",
        "delta = tf.ones_like(encoding) * step_size\n",
        "\n",
        "walked_encodings = []\n",
        "for step_index in range(walk_steps):\n",
        "    walked_encodings.append(encoding)\n",
        "    encoding += delta\n",
        "walked_encodings = tf.stack(walked_encodings)\n",
        "batched_encodings = tf.split(walked_encodings, batches)\n",
        "\n",
        "images = []\n",
        "for batch in range(batches):\n",
        "    images += [\n",
        "        Image.fromarray(img)\n",
        "        for img in model.generate_image(\n",
        "            batched_encodings[batch],\n",
        "            batch_size=batch_size,\n",
        "            num_steps=25,\n",
        "            diffusion_noise=noise,\n",
        "        )\n",
        "    ]\n",
        "\n",
        "export_as_gif(\"eiffel-tower-starry-night.gif\", images, rubber_band=True)"
      ],
      "metadata": {
        "id": "UvH3gRNO5IVa"
      },
      "execution_count": null,
      "outputs": []
    }
  ]
}